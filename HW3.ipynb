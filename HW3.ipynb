{
 "cells": [
  {
   "cell_type": "code",
   "execution_count": 1,
   "id": "fc704741",
   "metadata": {},
   "outputs": [],
   "source": [
    "import pandas as pd\n",
    "import numpy as np\n",
    "import matplotlib.pyplot as plt"
   ]
  },
  {
   "cell_type": "code",
   "execution_count": 2,
   "id": "e1fc983f",
   "metadata": {},
   "outputs": [],
   "source": [
    "data = 'wget https://raw.githubusercontent.com/alexeygrigorev/datasets/master/housing.csv'"
   ]
  },
  {
   "cell_type": "code",
   "execution_count": 3,
   "id": "c677caf1",
   "metadata": {},
   "outputs": [
    {
     "name": "stdout",
     "output_type": "stream",
     "text": [
      "--2022-09-23 14:54:37--  http://wget/\n",
      "Resolviendo wget (wget)... falló: nodename nor servname provided, or not known.\n",
      "wget: no se pudo resolver la dirección del equipo “wget”\n",
      "--2022-09-23 14:54:37--  https://raw.githubusercontent.com/alexeygrigorev/datasets/master/housing.csv\n",
      "Resolviendo raw.githubusercontent.com (raw.githubusercontent.com)... 185.199.111.133, 185.199.108.133, 185.199.109.133, ...\n",
      "Conectando con raw.githubusercontent.com (raw.githubusercontent.com)[185.199.111.133]:443... conectado.\n",
      "Petición HTTP enviada, esperando respuesta... 200 OK\n",
      "Longitud: 1423529 (1.4M) [text/plain]\n",
      "Grabando a: “data/housing_data_week_3.csv”\n",
      "\n",
      "data/housing_data_w 100%[===================>]   1.36M  2.87MB/s    en 0.5s    \n",
      "\n",
      "2022-09-23 14:54:38 (2.87 MB/s) - “data/housing_data_week_3.csv” guardado [1423529/1423529]\n",
      "\n",
      "ACABADO --2022-09-23 14:54:38--\n",
      "Tiempo total de reloj: 1.0s\n",
      "Descargados: 1 ficheros, 1.4M en 0.5s (2.87 MB/s)\n"
     ]
    }
   ],
   "source": [
    "!wget $data -O data/housing_data_week_3.csv"
   ]
  },
  {
   "cell_type": "code",
   "execution_count": 4,
   "id": "d79bd581",
   "metadata": {},
   "outputs": [
    {
     "data": {
      "text/html": [
       "<div>\n",
       "<style scoped>\n",
       "    .dataframe tbody tr th:only-of-type {\n",
       "        vertical-align: middle;\n",
       "    }\n",
       "\n",
       "    .dataframe tbody tr th {\n",
       "        vertical-align: top;\n",
       "    }\n",
       "\n",
       "    .dataframe thead th {\n",
       "        text-align: right;\n",
       "    }\n",
       "</style>\n",
       "<table border=\"1\" class=\"dataframe\">\n",
       "  <thead>\n",
       "    <tr style=\"text-align: right;\">\n",
       "      <th></th>\n",
       "      <th>longitude</th>\n",
       "      <th>latitude</th>\n",
       "      <th>housing_median_age</th>\n",
       "      <th>total_rooms</th>\n",
       "      <th>total_bedrooms</th>\n",
       "      <th>population</th>\n",
       "      <th>households</th>\n",
       "      <th>median_income</th>\n",
       "      <th>median_house_value</th>\n",
       "      <th>ocean_proximity</th>\n",
       "    </tr>\n",
       "  </thead>\n",
       "  <tbody>\n",
       "    <tr>\n",
       "      <th>0</th>\n",
       "      <td>-122.23</td>\n",
       "      <td>37.88</td>\n",
       "      <td>41.0</td>\n",
       "      <td>880.0</td>\n",
       "      <td>129.0</td>\n",
       "      <td>322.0</td>\n",
       "      <td>126.0</td>\n",
       "      <td>8.3252</td>\n",
       "      <td>452600.0</td>\n",
       "      <td>NEAR BAY</td>\n",
       "    </tr>\n",
       "    <tr>\n",
       "      <th>1</th>\n",
       "      <td>-122.22</td>\n",
       "      <td>37.86</td>\n",
       "      <td>21.0</td>\n",
       "      <td>7099.0</td>\n",
       "      <td>1106.0</td>\n",
       "      <td>2401.0</td>\n",
       "      <td>1138.0</td>\n",
       "      <td>8.3014</td>\n",
       "      <td>358500.0</td>\n",
       "      <td>NEAR BAY</td>\n",
       "    </tr>\n",
       "    <tr>\n",
       "      <th>2</th>\n",
       "      <td>-122.24</td>\n",
       "      <td>37.85</td>\n",
       "      <td>52.0</td>\n",
       "      <td>1467.0</td>\n",
       "      <td>190.0</td>\n",
       "      <td>496.0</td>\n",
       "      <td>177.0</td>\n",
       "      <td>7.2574</td>\n",
       "      <td>352100.0</td>\n",
       "      <td>NEAR BAY</td>\n",
       "    </tr>\n",
       "    <tr>\n",
       "      <th>3</th>\n",
       "      <td>-122.25</td>\n",
       "      <td>37.85</td>\n",
       "      <td>52.0</td>\n",
       "      <td>1274.0</td>\n",
       "      <td>235.0</td>\n",
       "      <td>558.0</td>\n",
       "      <td>219.0</td>\n",
       "      <td>5.6431</td>\n",
       "      <td>341300.0</td>\n",
       "      <td>NEAR BAY</td>\n",
       "    </tr>\n",
       "    <tr>\n",
       "      <th>4</th>\n",
       "      <td>-122.25</td>\n",
       "      <td>37.85</td>\n",
       "      <td>52.0</td>\n",
       "      <td>1627.0</td>\n",
       "      <td>280.0</td>\n",
       "      <td>565.0</td>\n",
       "      <td>259.0</td>\n",
       "      <td>3.8462</td>\n",
       "      <td>342200.0</td>\n",
       "      <td>NEAR BAY</td>\n",
       "    </tr>\n",
       "  </tbody>\n",
       "</table>\n",
       "</div>"
      ],
      "text/plain": [
       "   longitude  latitude  housing_median_age  total_rooms  total_bedrooms  \\\n",
       "0    -122.23     37.88                41.0        880.0           129.0   \n",
       "1    -122.22     37.86                21.0       7099.0          1106.0   \n",
       "2    -122.24     37.85                52.0       1467.0           190.0   \n",
       "3    -122.25     37.85                52.0       1274.0           235.0   \n",
       "4    -122.25     37.85                52.0       1627.0           280.0   \n",
       "\n",
       "   population  households  median_income  median_house_value ocean_proximity  \n",
       "0       322.0       126.0         8.3252            452600.0        NEAR BAY  \n",
       "1      2401.0      1138.0         8.3014            358500.0        NEAR BAY  \n",
       "2       496.0       177.0         7.2574            352100.0        NEAR BAY  \n",
       "3       558.0       219.0         5.6431            341300.0        NEAR BAY  \n",
       "4       565.0       259.0         3.8462            342200.0        NEAR BAY  "
      ]
     },
     "execution_count": 4,
     "metadata": {},
     "output_type": "execute_result"
    }
   ],
   "source": [
    "df = pd.read_csv('data/housing_data_week_3.csv')\n",
    "df.head()"
   ]
  },
  {
   "cell_type": "code",
   "execution_count": 5,
   "id": "672f1977",
   "metadata": {},
   "outputs": [],
   "source": [
    "#Features\n",
    "base = ['latitude', 'longitude', 'housing_median_age', 'total_rooms',\n",
    "       'total_bedrooms', 'population', 'households', 'median_income',\n",
    "       'median_house_value', 'ocean_proximity']"
   ]
  },
  {
   "cell_type": "code",
   "execution_count": 6,
   "id": "ebf6e6d5",
   "metadata": {},
   "outputs": [],
   "source": [
    "#Data preparation\n",
    "df = df[base]\n",
    "df = df.fillna(0)\n",
    "df['rooms_per_household'] = round(df['total_rooms']/df['households'],3)\n",
    "df['bedrooms_per_room'] = round(df['total_bedrooms']/df['total_rooms'],3)\n",
    "df['population_per_household'] = round(df['population']/df['households'],3)"
   ]
  },
  {
   "cell_type": "code",
   "execution_count": 7,
   "id": "5e5b49db",
   "metadata": {},
   "outputs": [
    {
     "data": {
      "text/html": [
       "<div>\n",
       "<style scoped>\n",
       "    .dataframe tbody tr th:only-of-type {\n",
       "        vertical-align: middle;\n",
       "    }\n",
       "\n",
       "    .dataframe tbody tr th {\n",
       "        vertical-align: top;\n",
       "    }\n",
       "\n",
       "    .dataframe thead th {\n",
       "        text-align: right;\n",
       "    }\n",
       "</style>\n",
       "<table border=\"1\" class=\"dataframe\">\n",
       "  <thead>\n",
       "    <tr style=\"text-align: right;\">\n",
       "      <th></th>\n",
       "      <th>latitude</th>\n",
       "      <th>longitude</th>\n",
       "      <th>housing_median_age</th>\n",
       "      <th>total_rooms</th>\n",
       "      <th>total_bedrooms</th>\n",
       "      <th>population</th>\n",
       "      <th>households</th>\n",
       "      <th>median_income</th>\n",
       "      <th>median_house_value</th>\n",
       "      <th>ocean_proximity</th>\n",
       "      <th>rooms_per_household</th>\n",
       "      <th>bedrooms_per_room</th>\n",
       "      <th>population_per_household</th>\n",
       "    </tr>\n",
       "  </thead>\n",
       "  <tbody>\n",
       "    <tr>\n",
       "      <th>0</th>\n",
       "      <td>37.88</td>\n",
       "      <td>-122.23</td>\n",
       "      <td>41.0</td>\n",
       "      <td>880.0</td>\n",
       "      <td>129.0</td>\n",
       "      <td>322.0</td>\n",
       "      <td>126.0</td>\n",
       "      <td>8.3252</td>\n",
       "      <td>452600.0</td>\n",
       "      <td>NEAR BAY</td>\n",
       "      <td>6.984</td>\n",
       "      <td>0.147</td>\n",
       "      <td>2.556</td>\n",
       "    </tr>\n",
       "    <tr>\n",
       "      <th>1</th>\n",
       "      <td>37.86</td>\n",
       "      <td>-122.22</td>\n",
       "      <td>21.0</td>\n",
       "      <td>7099.0</td>\n",
       "      <td>1106.0</td>\n",
       "      <td>2401.0</td>\n",
       "      <td>1138.0</td>\n",
       "      <td>8.3014</td>\n",
       "      <td>358500.0</td>\n",
       "      <td>NEAR BAY</td>\n",
       "      <td>6.238</td>\n",
       "      <td>0.156</td>\n",
       "      <td>2.110</td>\n",
       "    </tr>\n",
       "    <tr>\n",
       "      <th>2</th>\n",
       "      <td>37.85</td>\n",
       "      <td>-122.24</td>\n",
       "      <td>52.0</td>\n",
       "      <td>1467.0</td>\n",
       "      <td>190.0</td>\n",
       "      <td>496.0</td>\n",
       "      <td>177.0</td>\n",
       "      <td>7.2574</td>\n",
       "      <td>352100.0</td>\n",
       "      <td>NEAR BAY</td>\n",
       "      <td>8.288</td>\n",
       "      <td>0.130</td>\n",
       "      <td>2.802</td>\n",
       "    </tr>\n",
       "    <tr>\n",
       "      <th>3</th>\n",
       "      <td>37.85</td>\n",
       "      <td>-122.25</td>\n",
       "      <td>52.0</td>\n",
       "      <td>1274.0</td>\n",
       "      <td>235.0</td>\n",
       "      <td>558.0</td>\n",
       "      <td>219.0</td>\n",
       "      <td>5.6431</td>\n",
       "      <td>341300.0</td>\n",
       "      <td>NEAR BAY</td>\n",
       "      <td>5.817</td>\n",
       "      <td>0.184</td>\n",
       "      <td>2.548</td>\n",
       "    </tr>\n",
       "    <tr>\n",
       "      <th>4</th>\n",
       "      <td>37.85</td>\n",
       "      <td>-122.25</td>\n",
       "      <td>52.0</td>\n",
       "      <td>1627.0</td>\n",
       "      <td>280.0</td>\n",
       "      <td>565.0</td>\n",
       "      <td>259.0</td>\n",
       "      <td>3.8462</td>\n",
       "      <td>342200.0</td>\n",
       "      <td>NEAR BAY</td>\n",
       "      <td>6.282</td>\n",
       "      <td>0.172</td>\n",
       "      <td>2.181</td>\n",
       "    </tr>\n",
       "  </tbody>\n",
       "</table>\n",
       "</div>"
      ],
      "text/plain": [
       "   latitude  longitude  housing_median_age  total_rooms  total_bedrooms  \\\n",
       "0     37.88    -122.23                41.0        880.0           129.0   \n",
       "1     37.86    -122.22                21.0       7099.0          1106.0   \n",
       "2     37.85    -122.24                52.0       1467.0           190.0   \n",
       "3     37.85    -122.25                52.0       1274.0           235.0   \n",
       "4     37.85    -122.25                52.0       1627.0           280.0   \n",
       "\n",
       "   population  households  median_income  median_house_value ocean_proximity  \\\n",
       "0       322.0       126.0         8.3252            452600.0        NEAR BAY   \n",
       "1      2401.0      1138.0         8.3014            358500.0        NEAR BAY   \n",
       "2       496.0       177.0         7.2574            352100.0        NEAR BAY   \n",
       "3       558.0       219.0         5.6431            341300.0        NEAR BAY   \n",
       "4       565.0       259.0         3.8462            342200.0        NEAR BAY   \n",
       "\n",
       "   rooms_per_household  bedrooms_per_room  population_per_household  \n",
       "0                6.984              0.147                     2.556  \n",
       "1                6.238              0.156                     2.110  \n",
       "2                8.288              0.130                     2.802  \n",
       "3                5.817              0.184                     2.548  \n",
       "4                6.282              0.172                     2.181  "
      ]
     },
     "execution_count": 7,
     "metadata": {},
     "output_type": "execute_result"
    }
   ],
   "source": [
    "df.head()"
   ]
  },
  {
   "cell_type": "markdown",
   "id": "8a3a3d26",
   "metadata": {},
   "source": [
    "# Question 1"
   ]
  },
  {
   "cell_type": "code",
   "execution_count": 8,
   "id": "7a3eec01",
   "metadata": {},
   "outputs": [
    {
     "data": {
      "text/plain": [
       "<1H OCEAN     9136\n",
       "INLAND        6551\n",
       "NEAR OCEAN    2658\n",
       "NEAR BAY      2290\n",
       "ISLAND           5\n",
       "Name: ocean_proximity, dtype: int64"
      ]
     },
     "execution_count": 8,
     "metadata": {},
     "output_type": "execute_result"
    }
   ],
   "source": [
    "df.ocean_proximity.value_counts()"
   ]
  },
  {
   "cell_type": "code",
   "execution_count": 9,
   "id": "0430568d",
   "metadata": {},
   "outputs": [],
   "source": [
    "#Split the data\n",
    "from sklearn.model_selection import train_test_split"
   ]
  },
  {
   "cell_type": "code",
   "execution_count": 10,
   "id": "979fecf2",
   "metadata": {},
   "outputs": [],
   "source": [
    "df_full_train, df_test = train_test_split(df, test_size=0.2, random_state=42, )\n",
    "df_train, df_val = train_test_split(df_full_train, test_size=0.25, random_state=42, )"
   ]
  },
  {
   "cell_type": "code",
   "execution_count": 11,
   "id": "32d176a5",
   "metadata": {},
   "outputs": [
    {
     "data": {
      "text/plain": [
       "(20640, 12384, 4128, 4128)"
      ]
     },
     "execution_count": 11,
     "metadata": {},
     "output_type": "execute_result"
    }
   ],
   "source": [
    "len (df), len(df_train), len(df_val), len(df_test)"
   ]
  },
  {
   "cell_type": "code",
   "execution_count": 12,
   "id": "6f908a4e",
   "metadata": {},
   "outputs": [],
   "source": [
    "df_train = df_train.reset_index(drop=True)\n",
    "df_val = df_val.reset_index(drop=True)\n",
    "df_test = df_test.reset_index(drop=True)"
   ]
  },
  {
   "cell_type": "code",
   "execution_count": 13,
   "id": "599ee790",
   "metadata": {},
   "outputs": [],
   "source": [
    "y_train = df_train.median_house_value.values\n",
    "y_val = df_val.median_house_value.values\n",
    "y_test = df_test.median_house_value.values"
   ]
  },
  {
   "cell_type": "code",
   "execution_count": 14,
   "id": "1c10493a",
   "metadata": {},
   "outputs": [],
   "source": [
    "del df_train['median_house_value']\n",
    "del df_val['median_house_value']\n",
    "del df_test['median_house_value']"
   ]
  },
  {
   "cell_type": "markdown",
   "id": "bfbeaa6c",
   "metadata": {},
   "source": [
    "# Question 2"
   ]
  },
  {
   "cell_type": "code",
   "execution_count": 15,
   "id": "168e5a27",
   "metadata": {
    "scrolled": false
   },
   "outputs": [
    {
     "data": {
      "text/plain": [
       "latitude                    float64\n",
       "longitude                   float64\n",
       "housing_median_age          float64\n",
       "total_rooms                 float64\n",
       "total_bedrooms              float64\n",
       "population                  float64\n",
       "households                  float64\n",
       "median_income               float64\n",
       "ocean_proximity              object\n",
       "rooms_per_household         float64\n",
       "bedrooms_per_room           float64\n",
       "population_per_household    float64\n",
       "dtype: object"
      ]
     },
     "execution_count": 15,
     "metadata": {},
     "output_type": "execute_result"
    }
   ],
   "source": [
    "df_train.dtypes"
   ]
  },
  {
   "cell_type": "code",
   "execution_count": 16,
   "id": "4f79c4b0",
   "metadata": {},
   "outputs": [
    {
     "data": {
      "text/plain": [
       "Index(['latitude', 'longitude', 'housing_median_age', 'total_rooms',\n",
       "       'total_bedrooms', 'population', 'households', 'median_income',\n",
       "       'ocean_proximity', 'rooms_per_household', 'bedrooms_per_room',\n",
       "       'population_per_household'],\n",
       "      dtype='object')"
      ]
     },
     "execution_count": 16,
     "metadata": {},
     "output_type": "execute_result"
    }
   ],
   "source": [
    "df_train.columns"
   ]
  },
  {
   "cell_type": "code",
   "execution_count": 17,
   "id": "b7662225",
   "metadata": {},
   "outputs": [],
   "source": [
    "numerical = ['latitude', 'longitude', 'housing_median_age', \n",
    "             'total_rooms','total_bedrooms', 'population', \n",
    "             'households', 'median_income', 'rooms_per_household', \n",
    "             'bedrooms_per_room', 'population_per_household']\n",
    "categorical = ['ocean_proximity']"
   ]
  },
  {
   "cell_type": "code",
   "execution_count": 18,
   "id": "0b1b0425",
   "metadata": {},
   "outputs": [],
   "source": [
    "data = {}\n",
    "for column in numerical:\n",
    "    corr_list = list(df_train[numerical].corrwith(df_train[column]).round(3))\n",
    "    data[column] = corr_list"
   ]
  },
  {
   "cell_type": "code",
   "execution_count": 19,
   "id": "9eac7367",
   "metadata": {},
   "outputs": [
    {
     "data": {
      "image/png": "[encoded data removed]",
      "text/plain": [
       "<Figure size 1080x576 with 2 Axes>"
      ]
     },
     "metadata": {},
     "output_type": "display_data"
    }
   ],
   "source": [
    "import seaborn as sn\n",
    "df_corr = pd.DataFrame(data,columns=numerical)\n",
    "sn.set(rc = {'figure.figsize':(15,8)})\n",
    "\n",
    "corrMatrix = df_corr.corr()\n",
    "sn.heatmap(corrMatrix, annot=True, )\n",
    "\n",
    "\n",
    "plt.show()\n",
    "#total_bedrooms and households"
   ]
  },
  {
   "cell_type": "code",
   "execution_count": 20,
   "id": "562b8e3e",
   "metadata": {},
   "outputs": [
    {
     "data": {
      "text/plain": [
       "206807.7419250646"
      ]
     },
     "execution_count": 20,
     "metadata": {},
     "output_type": "execute_result"
    }
   ],
   "source": [
    "# Make median_house_value binary\n",
    "y_train.mean()"
   ]
  },
  {
   "cell_type": "code",
   "execution_count": 21,
   "id": "b396c701",
   "metadata": {},
   "outputs": [],
   "source": [
    "y_train_above_average = (y_train > y_train.mean()).astype(int)"
   ]
  },
  {
   "cell_type": "code",
   "execution_count": 22,
   "id": "b83a4a11",
   "metadata": {},
   "outputs": [
    {
     "data": {
      "text/html": [
       "<div>\n",
       "<style scoped>\n",
       "    .dataframe tbody tr th:only-of-type {\n",
       "        vertical-align: middle;\n",
       "    }\n",
       "\n",
       "    .dataframe tbody tr th {\n",
       "        vertical-align: top;\n",
       "    }\n",
       "\n",
       "    .dataframe thead th {\n",
       "        text-align: right;\n",
       "    }\n",
       "</style>\n",
       "<table border=\"1\" class=\"dataframe\">\n",
       "  <thead>\n",
       "    <tr style=\"text-align: right;\">\n",
       "      <th></th>\n",
       "      <th>latitude</th>\n",
       "      <th>longitude</th>\n",
       "      <th>housing_median_age</th>\n",
       "      <th>total_rooms</th>\n",
       "      <th>total_bedrooms</th>\n",
       "      <th>population</th>\n",
       "      <th>households</th>\n",
       "      <th>median_income</th>\n",
       "      <th>ocean_proximity</th>\n",
       "      <th>rooms_per_household</th>\n",
       "      <th>bedrooms_per_room</th>\n",
       "      <th>population_per_household</th>\n",
       "    </tr>\n",
       "  </thead>\n",
       "  <tbody>\n",
       "    <tr>\n",
       "      <th>0</th>\n",
       "      <td>34.43</td>\n",
       "      <td>-119.67</td>\n",
       "      <td>39.0</td>\n",
       "      <td>1467.0</td>\n",
       "      <td>381.0</td>\n",
       "      <td>1404.0</td>\n",
       "      <td>374.0</td>\n",
       "      <td>2.3681</td>\n",
       "      <td>&lt;1H OCEAN</td>\n",
       "      <td>3.922</td>\n",
       "      <td>0.260</td>\n",
       "      <td>3.754</td>\n",
       "    </tr>\n",
       "    <tr>\n",
       "      <th>1</th>\n",
       "      <td>33.74</td>\n",
       "      <td>-118.32</td>\n",
       "      <td>24.0</td>\n",
       "      <td>6097.0</td>\n",
       "      <td>794.0</td>\n",
       "      <td>2248.0</td>\n",
       "      <td>806.0</td>\n",
       "      <td>10.1357</td>\n",
       "      <td>NEAR OCEAN</td>\n",
       "      <td>7.565</td>\n",
       "      <td>0.130</td>\n",
       "      <td>2.789</td>\n",
       "    </tr>\n",
       "    <tr>\n",
       "      <th>2</th>\n",
       "      <td>39.13</td>\n",
       "      <td>-121.62</td>\n",
       "      <td>41.0</td>\n",
       "      <td>1317.0</td>\n",
       "      <td>309.0</td>\n",
       "      <td>856.0</td>\n",
       "      <td>337.0</td>\n",
       "      <td>1.6719</td>\n",
       "      <td>INLAND</td>\n",
       "      <td>3.908</td>\n",
       "      <td>0.235</td>\n",
       "      <td>2.540</td>\n",
       "    </tr>\n",
       "    <tr>\n",
       "      <th>3</th>\n",
       "      <td>34.24</td>\n",
       "      <td>-118.63</td>\n",
       "      <td>9.0</td>\n",
       "      <td>4759.0</td>\n",
       "      <td>924.0</td>\n",
       "      <td>1884.0</td>\n",
       "      <td>915.0</td>\n",
       "      <td>4.8333</td>\n",
       "      <td>&lt;1H OCEAN</td>\n",
       "      <td>5.201</td>\n",
       "      <td>0.194</td>\n",
       "      <td>2.059</td>\n",
       "    </tr>\n",
       "    <tr>\n",
       "      <th>4</th>\n",
       "      <td>37.52</td>\n",
       "      <td>-122.30</td>\n",
       "      <td>38.0</td>\n",
       "      <td>2769.0</td>\n",
       "      <td>387.0</td>\n",
       "      <td>994.0</td>\n",
       "      <td>395.0</td>\n",
       "      <td>5.5902</td>\n",
       "      <td>NEAR OCEAN</td>\n",
       "      <td>7.010</td>\n",
       "      <td>0.140</td>\n",
       "      <td>2.516</td>\n",
       "    </tr>\n",
       "  </tbody>\n",
       "</table>\n",
       "</div>"
      ],
      "text/plain": [
       "   latitude  longitude  housing_median_age  total_rooms  total_bedrooms  \\\n",
       "0     34.43    -119.67                39.0       1467.0           381.0   \n",
       "1     33.74    -118.32                24.0       6097.0           794.0   \n",
       "2     39.13    -121.62                41.0       1317.0           309.0   \n",
       "3     34.24    -118.63                 9.0       4759.0           924.0   \n",
       "4     37.52    -122.30                38.0       2769.0           387.0   \n",
       "\n",
       "   population  households  median_income ocean_proximity  rooms_per_household  \\\n",
       "0      1404.0       374.0         2.3681       <1H OCEAN                3.922   \n",
       "1      2248.0       806.0        10.1357      NEAR OCEAN                7.565   \n",
       "2       856.0       337.0         1.6719          INLAND                3.908   \n",
       "3      1884.0       915.0         4.8333       <1H OCEAN                5.201   \n",
       "4       994.0       395.0         5.5902      NEAR OCEAN                7.010   \n",
       "\n",
       "   bedrooms_per_room  population_per_household  \n",
       "0              0.260                     3.754  \n",
       "1              0.130                     2.789  \n",
       "2              0.235                     2.540  \n",
       "3              0.194                     2.059  \n",
       "4              0.140                     2.516  "
      ]
     },
     "execution_count": 22,
     "metadata": {},
     "output_type": "execute_result"
    }
   ],
   "source": [
    "df_train.head()"
   ]
  },
  {
   "cell_type": "markdown",
   "id": "6d20f8fa",
   "metadata": {},
   "source": [
    "# Question 3"
   ]
  },
  {
   "cell_type": "code",
   "execution_count": 23,
   "id": "48a9be4e",
   "metadata": {},
   "outputs": [],
   "source": [
    "from sklearn.metrics import mutual_info_score"
   ]
  },
  {
   "cell_type": "code",
   "execution_count": 24,
   "id": "52dd7b35",
   "metadata": {},
   "outputs": [
    {
     "data": {
      "text/plain": [
       "0.10138385763624205"
      ]
     },
     "execution_count": 24,
     "metadata": {},
     "output_type": "execute_result"
    }
   ],
   "source": [
    "mutual_info_score(y_train_above_average, df_train.ocean_proximity)"
   ]
  },
  {
   "cell_type": "code",
   "execution_count": 25,
   "id": "a8bdddc4",
   "metadata": {},
   "outputs": [],
   "source": [
    "score = mutual_info_score(y_train_above_average, df_train.ocean_proximity)"
   ]
  },
  {
   "cell_type": "code",
   "execution_count": 26,
   "id": "87f87a2d",
   "metadata": {},
   "outputs": [
    {
     "data": {
      "text/plain": [
       "0.1"
      ]
     },
     "execution_count": 26,
     "metadata": {},
     "output_type": "execute_result"
    }
   ],
   "source": [
    "round(score, 2)"
   ]
  },
  {
   "cell_type": "markdown",
   "id": "e9a370e5",
   "metadata": {},
   "source": [
    "# Question 4"
   ]
  },
  {
   "cell_type": "code",
   "execution_count": 27,
   "id": "78bd00dd",
   "metadata": {},
   "outputs": [],
   "source": [
    "#One-hot encoding\n",
    "from sklearn.feature_extraction import DictVectorizer\n",
    "\n",
    "train_dict = df_train[categorical + numerical].to_dict(orient='records')"
   ]
  },
  {
   "cell_type": "code",
   "execution_count": 28,
   "id": "486452a1",
   "metadata": {},
   "outputs": [
    {
     "data": {
      "text/plain": [
       "{'ocean_proximity': '<1H OCEAN',\n",
       " 'latitude': 34.43,\n",
       " 'longitude': -119.67,\n",
       " 'housing_median_age': 39.0,\n",
       " 'total_rooms': 1467.0,\n",
       " 'total_bedrooms': 381.0,\n",
       " 'population': 1404.0,\n",
       " 'households': 374.0,\n",
       " 'median_income': 2.3681,\n",
       " 'rooms_per_household': 3.922,\n",
       " 'bedrooms_per_room': 0.26,\n",
       " 'population_per_household': 3.754}"
      ]
     },
     "execution_count": 28,
     "metadata": {},
     "output_type": "execute_result"
    }
   ],
   "source": [
    "train_dict[0]"
   ]
  },
  {
   "cell_type": "code",
   "execution_count": 29,
   "id": "e2803444",
   "metadata": {},
   "outputs": [
    {
     "data": {
      "text/plain": [
       "DictVectorizer(sparse=False)"
      ]
     },
     "execution_count": 29,
     "metadata": {},
     "output_type": "execute_result"
    }
   ],
   "source": [
    "dv = DictVectorizer(sparse=False)\n",
    "dv.fit(train_dict)"
   ]
  },
  {
   "cell_type": "code",
   "execution_count": 30,
   "id": "37c70912",
   "metadata": {},
   "outputs": [],
   "source": [
    "X_train = dv.transform(train_dict)"
   ]
  },
  {
   "cell_type": "code",
   "execution_count": 31,
   "id": "43df6f9b",
   "metadata": {},
   "outputs": [],
   "source": [
    "#Training logistic regression\n",
    "from sklearn.linear_model import LogisticRegression"
   ]
  },
  {
   "cell_type": "code",
   "execution_count": 32,
   "id": "b96a94dc",
   "metadata": {},
   "outputs": [],
   "source": [
    "model = LogisticRegression(solver=\"liblinear\", C=1.0, max_iter=1000, random_state=42)"
   ]
  },
  {
   "cell_type": "code",
   "execution_count": 33,
   "id": "58ae4090",
   "metadata": {},
   "outputs": [
    {
     "data": {
      "text/plain": [
       "LogisticRegression(max_iter=1000, random_state=42, solver='liblinear')"
      ]
     },
     "execution_count": 33,
     "metadata": {},
     "output_type": "execute_result"
    }
   ],
   "source": [
    "model.fit(X_train, y_train_above_average)"
   ]
  },
  {
   "cell_type": "code",
   "execution_count": 34,
   "id": "b003d16a",
   "metadata": {},
   "outputs": [],
   "source": [
    "val_dict = df_val[categorical + numerical].to_dict(orient='records')\n",
    "X_val = dv.transform(val_dict)"
   ]
  },
  {
   "cell_type": "code",
   "execution_count": 35,
   "id": "0c8f06a7",
   "metadata": {},
   "outputs": [
    {
     "data": {
      "text/plain": [
       "array([[0.9227409 , 0.0772591 ],\n",
       "       [0.79635784, 0.20364216],\n",
       "       [0.04654419, 0.95345581],\n",
       "       ...,\n",
       "       [0.03443674, 0.96556326],\n",
       "       [0.14514047, 0.85485953],\n",
       "       [0.56625704, 0.43374296]])"
      ]
     },
     "execution_count": 35,
     "metadata": {},
     "output_type": "execute_result"
    }
   ],
   "source": [
    "model.predict_proba(X_val)"
   ]
  },
  {
   "cell_type": "code",
   "execution_count": 36,
   "id": "3e1542df",
   "metadata": {},
   "outputs": [],
   "source": [
    "y_pred = model.predict_proba(X_val)[:,1]"
   ]
  },
  {
   "cell_type": "code",
   "execution_count": 37,
   "id": "5fcd6ec7",
   "metadata": {},
   "outputs": [],
   "source": [
    "decision = (y_pred >= 0.5)"
   ]
  },
  {
   "cell_type": "code",
   "execution_count": 38,
   "id": "9e226968",
   "metadata": {},
   "outputs": [],
   "source": [
    "y_val_above_average = (y_val > y_val.mean()).astype(int)"
   ]
  },
  {
   "cell_type": "code",
   "execution_count": 39,
   "id": "5f77df20",
   "metadata": {},
   "outputs": [],
   "source": [
    "df_pred = pd.DataFrame()\n",
    "df_pred['probability'] = y_pred\n",
    "df_pred['prediction'] = decision.astype(int)\n",
    "df_pred['actual'] = y_val_above_average"
   ]
  },
  {
   "cell_type": "code",
   "execution_count": 40,
   "id": "35526df0",
   "metadata": {},
   "outputs": [],
   "source": [
    "df_pred['correct'] = df_pred.prediction == df_pred.actual"
   ]
  },
  {
   "cell_type": "code",
   "execution_count": 41,
   "id": "76b3508b",
   "metadata": {},
   "outputs": [
    {
     "data": {
      "text/plain": [
       "0.84"
      ]
     },
     "execution_count": 41,
     "metadata": {},
     "output_type": "execute_result"
    }
   ],
   "source": [
    "round(df_pred.correct.mean(),2)"
   ]
  },
  {
   "cell_type": "markdown",
   "id": "16b4ed1c",
   "metadata": {},
   "source": [
    "# Question 5"
   ]
  },
  {
   "cell_type": "code",
   "execution_count": 42,
   "id": "59b4cf3e",
   "metadata": {},
   "outputs": [
    {
     "data": {
      "text/plain": [
       "{'bedrooms_per_room': 0.628,\n",
       " 'households': 0.004,\n",
       " 'housing_median_age': 0.037,\n",
       " 'latitude': 0.154,\n",
       " 'longitude': 0.099,\n",
       " 'median_income': 1.224,\n",
       " 'ocean_proximity=<1H OCEAN': 0.515,\n",
       " 'ocean_proximity=INLAND': -1.782,\n",
       " 'ocean_proximity=ISLAND': 0.065,\n",
       " 'ocean_proximity=NEAR BAY': 0.087,\n",
       " 'ocean_proximity=NEAR OCEAN': 0.898,\n",
       " 'population': -0.002,\n",
       " 'population_per_household': 0.01,\n",
       " 'rooms_per_household': -0.008,\n",
       " 'total_bedrooms': 0.002,\n",
       " 'total_rooms': -0.0}"
      ]
     },
     "execution_count": 42,
     "metadata": {},
     "output_type": "execute_result"
    }
   ],
   "source": [
    "dict(zip(dv.get_feature_names(), model.coef_[0].round(3)))"
   ]
  },
  {
   "cell_type": "code",
   "execution_count": 81,
   "id": "f9594a2c",
   "metadata": {},
   "outputs": [],
   "source": [
    "difference = {}\n",
    "for column in df_train.columns:\n",
    "    \n",
    "        df_small_train = df_train.copy()\n",
    "        df_small_val = df_val.copy()\n",
    "        \n",
    "        del df_small_train[column]\n",
    "        del df_small_val[column]\n",
    "        \n",
    "        columns_small = df_small_train.columns\n",
    "        \n",
    "        #one-hot encoing\n",
    "        train_small_dict = df_small_train[columns_small].to_dict(orient='records')\n",
    "\n",
    "        dv_small = DictVectorizer(sparse=False)\n",
    "        dv_small.fit(train_small_dict)\n",
    "        X_small_train = dv_small.transform(train_small_dict)\n",
    "        \n",
    "        #Training logistic regression\n",
    "        model_small = LogisticRegression(solver=\"liblinear\", C=1.0, max_iter=1000, random_state=42)\n",
    "        model_small.fit(X_small_train, y_train_above_average)\n",
    "        \n",
    "        val_small_dict = df_small_val[columns_small].to_dict(orient='records')\n",
    "        X_small_val = dv_small.transform(val_small_dict)\n",
    "        \n",
    "        model_small.predict_proba(X_small_val)\n",
    "        y_small_pred = model_small.predict_proba(X_small_val)[:,1]\n",
    "        decision_small = (y_small_pred >= 0.5)\n",
    "\n",
    "        df_small_pred = pd.DataFrame()\n",
    "        df_small_pred['probability'] = y_small_pred\n",
    "        df_small_pred['prediction'] = decision_small.astype(int)\n",
    "        df_small_pred['actual'] = y_val_above_average\n",
    "\n",
    "        df_small_pred['correct'] = df_small_pred.prediction == df_small_pred.actual\n",
    "\n",
    "        accurrancy = round(df_small_pred.correct.mean(),2)\n",
    "        \n",
    "        difference[column] = abs((accurrancy - df_pred.correct.mean()))"
   ]
  },
  {
   "cell_type": "code",
   "execution_count": 82,
   "id": "ea2f20e5",
   "metadata": {},
   "outputs": [
    {
     "data": {
      "text/plain": [
       "[(0.004001937984496107, 'bedrooms_per_room'),\n",
       " (0.004001937984496107, 'population_per_household'),\n",
       " (0.004001937984496107, 'rooms_per_household'),\n",
       " (0.004001937984496107, 'total_bedrooms'),\n",
       " (0.004001937984496107, 'total_rooms'),\n",
       " (0.005998062015503902, 'households'),\n",
       " (0.005998062015503902, 'housing_median_age'),\n",
       " (0.005998062015503902, 'latitude'),\n",
       " (0.005998062015503902, 'longitude'),\n",
       " (0.005998062015503902, 'population'),\n",
       " (0.01599806201550391, 'ocean_proximity'),\n",
       " (0.04599806201550383, 'median_income')]"
      ]
     },
     "execution_count": 82,
     "metadata": {},
     "output_type": "execute_result"
    }
   ],
   "source": [
    "min_dic = list(zip(difference.values(),difference.keys()))\n",
    "sorted(min_dic)"
   ]
  },
  {
   "cell_type": "code",
   "execution_count": 62,
   "id": "7f72412b",
   "metadata": {},
   "outputs": [
    {
     "data": {
      "text/plain": [
       "0.8359980620155039"
      ]
     },
     "execution_count": 62,
     "metadata": {},
     "output_type": "execute_result"
    }
   ],
   "source": [
    "df_pred.correct.mean()"
   ]
  },
  {
   "cell_type": "markdown",
   "id": "c7f92b8b",
   "metadata": {},
   "source": [
    "# Question 6"
   ]
  },
  {
   "cell_type": "code",
   "execution_count": 67,
   "id": "8f86975d",
   "metadata": {},
   "outputs": [],
   "source": [
    "#linear regression model from Scikit-Learn\n",
    "from sklearn.linear_model import Ridge\n",
    "from sklearn.metrics import mean_squared_error"
   ]
  },
  {
   "cell_type": "code",
   "execution_count": 68,
   "id": "ee86d74f",
   "metadata": {},
   "outputs": [],
   "source": [
    "#logarithmic transformation\n",
    "y_log_train = np.log1p(y_train)\n",
    "y_val_train = np.log1p(y_val)"
   ]
  },
  {
   "cell_type": "code",
   "execution_count": 69,
   "id": "f2782c86",
   "metadata": {},
   "outputs": [],
   "source": [
    "alpha = [0, 0.01, 0.1, 1, 10]"
   ]
  },
  {
   "cell_type": "code",
   "execution_count": 70,
   "id": "f549b7f2",
   "metadata": {},
   "outputs": [],
   "source": [
    "scores = {}"
   ]
  },
  {
   "cell_type": "code",
   "execution_count": 71,
   "id": "7b58c2c4",
   "metadata": {},
   "outputs": [],
   "source": [
    "for a in alpha:\n",
    "    model_ridge = Ridge(alpha=a, solver=\"sag\", random_state=42)\n",
    "    model_ridge.fit(X_train, y_log_train)\n",
    "    pred = model_ridge.predict(X_val)\n",
    "    rmse = np.sqrt(mean_squared_error(y_val_train,pred))\n",
    "    scores[a]=round(rmse,3)"
   ]
  },
  {
   "cell_type": "code",
   "execution_count": 72,
   "id": "ece1cdfa",
   "metadata": {},
   "outputs": [
    {
     "data": {
      "text/plain": [
       "{0: 0.524, 0.01: 0.524, 0.1: 0.524, 1: 0.524, 10: 0.524}"
      ]
     },
     "execution_count": 72,
     "metadata": {},
     "output_type": "execute_result"
    }
   ],
   "source": [
    "scores"
   ]
  },
  {
   "cell_type": "code",
   "execution_count": null,
   "id": "eee4e0bb",
   "metadata": {},
   "outputs": [],
   "source": []
  }
 ],
 "metadata": {
  "kernelspec": {
   "display_name": "Python 3 (ipykernel)",
   "language": "python",
   "name": "python3"
  },
  "language_info": {
   "codemirror_mode": {
    "name": "ipython",
    "version": 3
   },
   "file_extension": ".py",
   "mimetype": "text/x-python",
   "name": "python",
   "nbconvert_exporter": "python",
   "pygments_lexer": "ipython3",
   "version": "3.8.8"
  }
 },
 "nbformat": 4,
 "nbformat_minor": 5
}
