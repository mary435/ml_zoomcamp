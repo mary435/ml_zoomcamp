{
 "cells": [
  {
   "cell_type": "markdown",
   "id": "4a9b7e58",
   "metadata": {},
   "source": [
    "## HW 5"
   ]
  },
  {
   "cell_type": "markdown",
   "id": "c90726a5",
   "metadata": {},
   "source": [
    "## Question 1\n",
    "\n",
    "* Install Pipenv\n",
    "* What's the version of pipenv you installed?\n",
    "* Use `--version` to find out"
   ]
  },
  {
   "cell_type": "code",
   "execution_count": 41,
   "id": "1edf51a0",
   "metadata": {},
   "outputs": [
    {
     "name": "stdout",
     "output_type": "stream",
     "text": [
      "\u001b[1mpipenv\u001b[0m, version 2022.9.24\n",
      "\u001b[0m"
     ]
    }
   ],
   "source": [
    "!pipenv --version"
   ]
  },
  {
   "cell_type": "markdown",
   "id": "f10dff79",
   "metadata": {},
   "source": [
    "# Question 2\n",
    "\n",
    "* Use Pipenv to install Scikit-Learn version 1.0.2\n",
    "* What's the first hash for scikit-learn you get in Pipfile.lock?\n",
    "\n",
    "Note: you should create an empty folder for homework\n",
    "and do it there."
   ]
  },
  {
   "cell_type": "markdown",
   "id": "2b97b0e8",
   "metadata": {},
   "source": [
    "\"sha256:08ef968f6b72033c16c479c966bf37ccd49b06ea91b765e1cc27afefe723920b\""
   ]
  },
  {
   "cell_type": "markdown",
   "id": "20e1197b",
   "metadata": {},
   "source": [
    "## Question 3\n",
    "\n",
    "Let's use these models!\n",
    "\n",
    "* Write a script for loading these models with pickle\n",
    "* Score this client:\n",
    "\n",
    "```json\n",
    "{\"reports\": 0, \"share\": 0.001694, \"expenditure\": 0.12, \"owner\": \"yes\"}\n",
    "```\n",
    "\n",
    "What's the probability that this client will get a credit card? \n",
    "\n",
    "* 0.162\n",
    "* 0.391\n",
    "* 0.601\n",
    "* 0.993"
   ]
  },
  {
   "cell_type": "code",
   "execution_count": 1,
   "id": "68c1dcf6",
   "metadata": {},
   "outputs": [],
   "source": [
    "import pickle"
   ]
  },
  {
   "cell_type": "code",
   "execution_count": 2,
   "id": "2aa9256a",
   "metadata": {},
   "outputs": [],
   "source": [
    "model_file = 'model1.bin'\n",
    "dv_file = 'dv.bin'"
   ]
  },
  {
   "cell_type": "code",
   "execution_count": 3,
   "id": "f76f5999",
   "metadata": {},
   "outputs": [
    {
     "name": "stderr",
     "output_type": "stream",
     "text": [
      "/opt/anaconda3/lib/python3.8/site-packages/sklearn/base.py:329: UserWarning: Trying to unpickle estimator LogisticRegression from version 1.0.2 when using version 1.1.1. This might lead to breaking code or invalid results. Use at your own risk. For more info please refer to:\n",
      "https://scikit-learn.org/stable/model_persistence.html#security-maintainability-limitations\n",
      "  warnings.warn(\n",
      "/opt/anaconda3/lib/python3.8/site-packages/sklearn/base.py:329: UserWarning: Trying to unpickle estimator DictVectorizer from version 1.0.2 when using version 1.1.1. This might lead to breaking code or invalid results. Use at your own risk. For more info please refer to:\n",
      "https://scikit-learn.org/stable/model_persistence.html#security-maintainability-limitations\n",
      "  warnings.warn(\n"
     ]
    }
   ],
   "source": [
    "with open(model_file, 'rb') as f_in:\n",
    "    model = pickle.load(f_in)\n",
    "\n",
    "with open(dv_file, 'rb') as dv_in:\n",
    "    dv = pickle.load(dv_in)"
   ]
  },
  {
   "cell_type": "code",
   "execution_count": 4,
   "id": "695dc621",
   "metadata": {},
   "outputs": [],
   "source": [
    "client= {\"reports\": 0, \"share\": 0.001694, \"expenditure\": 0.12, \"owner\": \"yes\"}"
   ]
  },
  {
   "cell_type": "code",
   "execution_count": 5,
   "id": "9ff16af3",
   "metadata": {},
   "outputs": [],
   "source": [
    "X = dv.transform([client])"
   ]
  },
  {
   "cell_type": "code",
   "execution_count": 6,
   "id": "c357964a",
   "metadata": {},
   "outputs": [],
   "source": [
    "y_pred = model.predict_proba(X)[0, 1]"
   ]
  },
  {
   "cell_type": "code",
   "execution_count": 7,
   "id": "862ec9c7",
   "metadata": {},
   "outputs": [
    {
     "data": {
      "text/plain": [
       "0.16213414434326598"
      ]
     },
     "execution_count": 7,
     "metadata": {},
     "output_type": "execute_result"
    }
   ],
   "source": [
    "y_pred"
   ]
  },
  {
   "cell_type": "markdown",
   "id": "c7432e35",
   "metadata": {},
   "source": [
    "## Question 4\n",
    "\n",
    "Now let's serve this model as a web service\n",
    "\n",
    "* Install Flask and gunicorn (or waitress, if you're on Windows)\n",
    "* Write Flask code for serving the model\n",
    "* Now score this client using `requests`:\n",
    "\n",
    "```python\n",
    "url = \"YOUR_URL\"\n",
    "client = {\"reports\": 0, \"share\": 0.245, \"expenditure\": 3.438, \"owner\": \"yes\"}\n",
    "requests.post(url, json=client).json()\n",
    "```\n",
    "\n",
    "What's the probability that this client will get a credit card?\n",
    "\n",
    "* 0.274\n",
    "* 0.484\n",
    "* 0.698\n",
    "* 0.928"
   ]
  },
  {
   "cell_type": "code",
   "execution_count": 8,
   "id": "bea62904",
   "metadata": {},
   "outputs": [],
   "source": [
    "import requests"
   ]
  },
  {
   "cell_type": "code",
   "execution_count": 9,
   "id": "e96482cf",
   "metadata": {},
   "outputs": [],
   "source": [
    "url = 'http://localhost:8686/predict'"
   ]
  },
  {
   "cell_type": "code",
   "execution_count": 10,
   "id": "4e6164fd",
   "metadata": {},
   "outputs": [],
   "source": [
    "client = {\"reports\": 0, \"share\": 0.245, \"expenditure\": 3.438, \"owner\": \"yes\"}"
   ]
  },
  {
   "cell_type": "code",
   "execution_count": 11,
   "id": "1b66087e",
   "metadata": {},
   "outputs": [
    {
     "data": {
      "text/plain": [
       "{'probability': 0.9282218018527452}"
      ]
     },
     "execution_count": 11,
     "metadata": {},
     "output_type": "execute_result"
    }
   ],
   "source": [
    "requests.post(url,json=client).json()"
   ]
  },
  {
   "cell_type": "markdown",
   "id": "475294ed",
   "metadata": {},
   "source": [
    "## Docker\n",
    "\n",
    "Install [Docker](https://github.com/alexeygrigorev/mlbookcamp-code/blob/master/course-zoomcamp/05-deployment/06-docker.md). We will use it for the next two questions.\n",
    "\n",
    "For these questions, we prepared a base image: `svizor/zoomcamp-model:3.9.12-slim`. \n",
    "You'll need to use it (see Question 5 for an example).\n",
    "\n",
    "This image is based on `python:3.9.12-slim` and has a logistic regression model \n",
    "(a different one) as well a dictionary vectorizer inside. \n",
    "\n",
    "This is how the Dockerfile for this image looks like:\n",
    "\n",
    "```docker \n",
    "FROM python:3.9.12-slim\n",
    "WORKDIR /app\n",
    "COPY [\"model2.bin\", \"dv.bin\", \"./\"]\n",
    "```\n",
    "\n",
    "We already built it and then pushed it to [`svizor/zoomcamp-model:3.9.12-slim`](https://hub.docker.com/r/svizor/zoomcamp-model).\n",
    "\n",
    "> **Note**: You don't need to build this docker image, it's just for your reference.\n"
   ]
  },
  {
   "cell_type": "markdown",
   "id": "78397e6a",
   "metadata": {},
   "source": [
    "## Question 5\n",
    "\n",
    "Download the base image `svizor/zoomcamp-model:3.9.12-slim`. You can easily make it by using [docker pull](https://docs.docker.com/engine/reference/commandline/pull/) command.\n",
    "\n",
    "So what's the size of this base image?\n",
    "\n",
    "* 15 Mb\n",
    "* 125 Mb\n",
    "* 275 Mb\n",
    "* 415 Mb\n",
    "\n",
    "You can get this information when running `docker images` - it'll be in the \"SIZE\" column.\n"
   ]
  },
  {
   "cell_type": "markdown",
   "id": "a9a12f3a",
   "metadata": {},
   "source": [
    "## Dockerfile\n",
    "\n",
    "Now create your own Dockerfile based on the image we prepared.\n",
    "\n",
    "It should start like that:\n",
    "\n",
    "```docker\n",
    "FROM svizor/zoomcamp-model:3.9.12-slim\n",
    "# add your stuff here\n",
    "```\n",
    "\n",
    "Now complete it:\n",
    "\n",
    "* Install all the dependencies form the Pipenv file\n",
    "* Copy your Flask script\n",
    "* Run it with Gunicorn \n",
    "\n",
    "After that, you can build your docker image."
   ]
  },
  {
   "cell_type": "markdown",
   "id": "3baf9c49",
   "metadata": {},
   "source": [
    "FROM svizor/zoomcamp-model:3.9.12-slim\n",
    "\n",
    "RUN pip install pipenv\n",
    "\n",
    "WORKDIR /app\n",
    "\n",
    "COPY [\"Pipfile\", \"Pipfile.lock\", \"./\"]\n",
    "\n",
    "RUN pipenv install --system --deploy\n",
    "\n",
    "COPY [\"predict.py\", \"./\"]\n",
    "\n",
    "EXPOSE 8686\n",
    "\n",
    "ENTRYPOINT [\"gunicorn\", \"--bind=0.0.0.0:8686\", \"predict:app\"]"
   ]
  },
  {
   "cell_type": "markdown",
   "id": "d5298a10",
   "metadata": {},
   "source": [
    "## Question 6\n",
    "\n",
    "Let's run your docker container!\n",
    "\n",
    "After running it, score this client once again:\n",
    "\n",
    "```python\n",
    "url = \"YOUR_URL\"\n",
    "client = {\"reports\": 0, \"share\": 0.245, \"expenditure\": 3.438, \"owner\": \"yes\"}\n",
    "requests.post(url, json=client).json()\n",
    "```\n",
    "\n",
    "What's the probability that this client will get a credit card now?\n",
    "\n",
    "* 0.289\n",
    "* 0.502\n",
    "* 0.769\n",
    "* 0.972\n"
   ]
  },
  {
   "cell_type": "code",
   "execution_count": 38,
   "id": "987ef79b",
   "metadata": {},
   "outputs": [],
   "source": [
    "url = 'http://localhost:8686/predict'"
   ]
  },
  {
   "cell_type": "code",
   "execution_count": 39,
   "id": "e484dce8",
   "metadata": {},
   "outputs": [],
   "source": [
    "client = {\"reports\": 0, \"share\": 0.245, \"expenditure\": 3.438, \"owner\": \"yes\"}"
   ]
  },
  {
   "cell_type": "code",
   "execution_count": 40,
   "id": "e7f9471e",
   "metadata": {},
   "outputs": [
    {
     "data": {
      "text/plain": [
       "{'probability': 0.7692649226628628}"
      ]
     },
     "execution_count": 40,
     "metadata": {},
     "output_type": "execute_result"
    }
   ],
   "source": [
    "requests.post(url, json=client).json()"
   ]
  },
  {
   "cell_type": "code",
   "execution_count": null,
   "id": "24ce93db",
   "metadata": {},
   "outputs": [],
   "source": []
  }
 ],
 "metadata": {
  "kernelspec": {
   "display_name": "Python 3 (ipykernel)",
   "language": "python",
   "name": "python3"
  },
  "language_info": {
   "codemirror_mode": {
    "name": "ipython",
    "version": 3
   },
   "file_extension": ".py",
   "mimetype": "text/x-python",
   "name": "python",
   "nbconvert_exporter": "python",
   "pygments_lexer": "ipython3",
   "version": "3.8.8"
  }
 },
 "nbformat": 4,
 "nbformat_minor": 5
}
